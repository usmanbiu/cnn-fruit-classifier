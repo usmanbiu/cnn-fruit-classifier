{
  "nbformat": 4,
  "nbformat_minor": 0,
  "metadata": {
    "colab": {
      "name": "cnn fruit classifier.ipynb",
      "provenance": [],
      "collapsed_sections": []
    },
    "kernelspec": {
      "display_name": "Python 3",
      "name": "python3"
    },
    "language_info": {
      "name": "python"
    }
  },
  "cells": [
    {
      "cell_type": "code",
      "metadata": {
        "id": "8bMzzdtTYYjg"
      },
      "source": [
        "from google.colab import drive"
      ],
      "execution_count": null,
      "outputs": []
    },
    {
      "cell_type": "markdown",
      "metadata": {
        "id": "JtwplwXWOk_4"
      },
      "source": [
        "nn\n"
      ]
    },
    {
      "cell_type": "markdown",
      "metadata": {
        "id": "28JykHUmJA2m"
      },
      "source": [
        "this cell imports the drive method into our notebok\n"
      ]
    },
    {
      "cell_type": "code",
      "metadata": {
        "colab": {
          "base_uri": "https://localhost:8080/"
        },
        "id": "IV5VChEVYNs7",
        "outputId": "1f4d5977-281e-45eb-f3f6-81e9d828351e"
      },
      "source": [
        "drive.mount('/content/gdrive')"
      ],
      "execution_count": null,
      "outputs": [
        {
          "output_type": "stream",
          "text": [
            "Mounted at /content/gdrive\n"
          ],
          "name": "stdout"
        }
      ]
    },
    {
      "cell_type": "markdown",
      "metadata": {
        "id": "A1dQMQV7JLX6"
      },
      "source": [
        "We are mounting our google drive on our google colab notebook, you would be redirected to a page where "
      ]
    },
    {
      "cell_type": "markdown",
      "metadata": {
        "id": "sa_Hf6AAOVNz"
      },
      "source": [
        "This is the path to the directory where our two folders with the images are\n"
      ]
    },
    {
      "cell_type": "code",
      "metadata": {
        "id": "U3JaGbz-YN9l"
      },
      "source": [
        "path_test='gdrive/MyDrive/Ai_projects/fruit classifier/'"
      ],
      "execution_count": null,
      "outputs": []
    },
    {
      "cell_type": "code",
      "metadata": {
        "id": "KmTieMJ7P2gE"
      },
      "source": [
        "import tensorflow as tf\n",
        "from keras.layers.core import Dense, Activation, Dropout, Flatten\n",
        "from keras.layers.convolutional import Convolution2D, MaxPooling2D\n",
        "from sklearn.model_selection import train_test_split\n",
        "from keras.optimizers import Adam\n",
        "from keras.utils import np_utils\n",
        "from keras.models import Sequential\n",
        "from sklearn.utils import shuffle\n",
        "import matplotlib.image as mpimg\n",
        "import tensorflow_datasets as tfds\n",
        "import matplotlib.pyplot as plt\n",
        "import numpy as np\n",
        "import os\n",
        "import cv2\n",
        "import random\n",
        "from numpy import *\n",
        "from PIL import Image\n",
        "import theano"
      ],
      "execution_count": null,
      "outputs": []
    },
    {
      "cell_type": "code",
      "metadata": {
        "id": "o5huL2gbXMsX"
      },
      "source": [
        "CATEGORIES=['African Cherry (Agbalumo)','Soursop (Local Ebo)'] "
      ],
      "execution_count": null,
      "outputs": []
    },
    {
      "cell_type": "code",
      "metadata": {
        "id": "ui-mu4R6YKrZ"
      },
      "source": [
        "IMG_SIZE =200\n",
        "training = []\n",
        "def createTrainingData():\n",
        "  for category in CATEGORIES:\n",
        "    path = os.path.join(path_test, category)\n",
        "    class_num = CATEGORIES.index(category)\n",
        "    for img in os.listdir(path):\n",
        "      img_array = cv2.imread(os.path.join(path,img))\n",
        "      new_array = cv2.resize(img_array, (IMG_SIZE, IMG_SIZE))\n",
        "      training.append([new_array, class_num])\n",
        "\n",
        "createTrainingData()"
      ],
      "execution_count": null,
      "outputs": []
    },
    {
      "cell_type": "code",
      "metadata": {
        "id": "J4hFxnkAd_Ho"
      },
      "source": [
        "random.shuffle(training)"
      ],
      "execution_count": null,
      "outputs": []
    },
    {
      "cell_type": "code",
      "metadata": {
        "id": "2EQV9s14eH0q"
      },
      "source": [
        "X =[]\n",
        "y =[]\n",
        "for features, label in training:\n",
        "  X.append(features)\n",
        "  y.append(label)\n",
        "X = np.array(X).reshape(-1, IMG_SIZE, IMG_SIZE, 3)"
      ],
      "execution_count": null,
      "outputs": []
    },
    {
      "cell_type": "code",
      "metadata": {
        "colab": {
          "base_uri": "https://localhost:8080/"
        },
        "id": "RnKX_hZVeQjX",
        "outputId": "7c9471bc-7afe-4038-ec06-046c4c049748"
      },
      "source": [
        "X = X.astype('float32')\n",
        "X /= 255\n",
        "Y = np_utils.to_categorical(y, 2)\n",
        "print(shape(Y))"
      ],
      "execution_count": null,
      "outputs": [
        {
          "output_type": "stream",
          "text": [
            "(222, 2)\n"
          ],
          "name": "stdout"
        }
      ]
    },
    {
      "cell_type": "code",
      "metadata": {
        "id": "8n9i7_9BekjT"
      },
      "source": [
        "X_train, X_test, y_train, y_test = train_test_split(X, Y, test_size = 0.2, random_state = 4)"
      ],
      "execution_count": null,
      "outputs": []
    },
    {
      "cell_type": "code",
      "metadata": {
        "id": "bGwiWaUCln8E"
      },
      "source": [
        "batch_size = 16\n",
        "nb_epochs = 10"
      ],
      "execution_count": null,
      "outputs": []
    },
    {
      "cell_type": "code",
      "metadata": {
        "id": "OR_jrHvplt6z"
      },
      "source": [
        "model = tf.keras.Sequential([\n",
        "    tf.keras.layers.Conv2D(16, (3,3), padding='same', activation=tf.nn.relu,\n",
        "                           input_shape=(200, 200, 3)),\n",
        "    tf.keras.layers.MaxPooling2D((2, 2), strides=2),\n",
        "    tf.keras.layers.Conv2D(32, (3,3), padding='same', activation=tf.nn.relu),\n",
        "    tf.keras.layers.MaxPooling2D((2, 2), strides=2),\n",
        "    tf.keras.layers.Conv2D(64, (3,3), padding='same', activation=tf.nn.relu),\n",
        "    tf.keras.layers.MaxPooling2D((2, 2), strides=2),\n",
        "    tf.keras.layers.Dropout(0.5),\n",
        "    tf.keras.layers.Flatten(),\n",
        "    tf.keras.layers.Dense(512, activation=tf.nn.relu),\n",
        "    tf.keras.layers.Dense(2,  activation=tf.nn.sigmoid)\n",
        "])"
      ],
      "execution_count": null,
      "outputs": []
    },
    {
      "cell_type": "code",
      "metadata": {
        "colab": {
          "base_uri": "https://localhost:8080/"
        },
        "id": "DOiCXyRllyI6",
        "outputId": "62244953-931c-4e9d-e0cf-c82a51d23282"
      },
      "source": [
        "model.compile(optimizer='adam',loss='binary_crossentropy',metrics=['accuracy'])\n",
        "model.fit(X_train, y_train, batch_size = batch_size, epochs = nb_epochs, verbose = 1, validation_data = (X_test, y_test))"
      ],
      "execution_count": null,
      "outputs": [
        {
          "output_type": "stream",
          "text": [
            "Epoch 1/10\n",
            "12/12 [==============================] - 10s 793ms/step - loss: 0.8512 - accuracy: 0.5523 - val_loss: 0.5515 - val_accuracy: 0.8667\n",
            "Epoch 2/10\n",
            "12/12 [==============================] - 9s 784ms/step - loss: 0.6313 - accuracy: 0.7838 - val_loss: 0.5226 - val_accuracy: 0.7778\n",
            "Epoch 3/10\n",
            "12/12 [==============================] - 9s 759ms/step - loss: 0.5606 - accuracy: 0.7725 - val_loss: 0.3385 - val_accuracy: 0.7778\n",
            "Epoch 4/10\n",
            "12/12 [==============================] - 9s 760ms/step - loss: 0.3867 - accuracy: 0.7682 - val_loss: 0.2117 - val_accuracy: 0.9111\n",
            "Epoch 5/10\n",
            "12/12 [==============================] - 9s 782ms/step - loss: 0.2550 - accuracy: 0.9511 - val_loss: 0.1519 - val_accuracy: 0.9556\n",
            "Epoch 6/10\n",
            "12/12 [==============================] - 9s 771ms/step - loss: 0.1818 - accuracy: 0.9521 - val_loss: 0.1805 - val_accuracy: 0.9333\n",
            "Epoch 7/10\n",
            "12/12 [==============================] - 9s 759ms/step - loss: 0.1561 - accuracy: 0.9528 - val_loss: 0.1149 - val_accuracy: 0.9556\n",
            "Epoch 8/10\n",
            "12/12 [==============================] - 9s 782ms/step - loss: 0.1994 - accuracy: 0.9608 - val_loss: 0.1057 - val_accuracy: 0.9556\n",
            "Epoch 9/10\n",
            "12/12 [==============================] - 9s 768ms/step - loss: 0.1093 - accuracy: 0.9650 - val_loss: 0.0868 - val_accuracy: 0.9556\n",
            "Epoch 10/10\n",
            "12/12 [==============================] - 9s 760ms/step - loss: 0.0858 - accuracy: 0.9751 - val_loss: 0.3021 - val_accuracy: 0.8444\n"
          ],
          "name": "stdout"
        },
        {
          "output_type": "execute_result",
          "data": {
            "text/plain": [
              "<tensorflow.python.keras.callbacks.History at 0x7fc22eb35590>"
            ]
          },
          "metadata": {
            "tags": []
          },
          "execution_count": 24
        }
      ]
    },
    {
      "cell_type": "code",
      "metadata": {
        "colab": {
          "base_uri": "https://localhost:8080/"
        },
        "id": "vW6GAeEwphTD",
        "outputId": "5f724925-12b0-4ea3-a685-dae64007f2f3"
      },
      "source": [
        "score = model.evaluate(X_test, y_test, verbose = 1 )"
      ],
      "execution_count": null,
      "outputs": [
        {
          "output_type": "stream",
          "text": [
            "2/2 [==============================] - 1s 168ms/step - loss: 0.3021 - accuracy: 0.8444\n"
          ],
          "name": "stdout"
        }
      ]
    },
    {
      "cell_type": "code",
      "metadata": {
        "id": "PgZ9yoBESYh4"
      },
      "source": [
        "test =model.predict(X_test)\n"
      ],
      "execution_count": null,
      "outputs": []
    },
    {
      "cell_type": "code",
      "metadata": {
        "colab": {
          "base_uri": "https://localhost:8080/"
        },
        "id": "bn4hRi_NMUEk",
        "outputId": "49183a2e-4837-4ba7-f1a2-57f98cfb81c8"
      },
      "source": [
        "import pandas as pd\n",
        "\n",
        "predicted_fruit=[]\n",
        "actual_fruit=[]\n",
        "\n",
        "for i in test:\n",
        "  if i[0]>i[1]:\n",
        "    predicted_fruit.append('African cherry')\n",
        "  else:\n",
        "    predicted_fruit.append('soursop')\n",
        "for j in y_test:\n",
        "  if j[0]>j[1]:\n",
        "    actual_fruit.append('African cherry')\n",
        "  else:\n",
        "    actual_fruit.append('soursop')\n",
        "\n",
        "data = {'predicted fruit': predicted_fruit,\n",
        "        'actual fruit': actual_fruit}\n",
        "\n",
        "df = pd.DataFrame (data, columns = ['predicted fruit','actual fruit'])\n",
        "print (df)"
      ],
      "execution_count": null,
      "outputs": [
        {
          "output_type": "stream",
          "text": [
            "   predicted fruit    actual fruit\n",
            "0   African cherry  African cherry\n",
            "1   African cherry  African cherry\n",
            "2          soursop         soursop\n",
            "3   African cherry  African cherry\n",
            "4   African cherry  African cherry\n",
            "5          soursop         soursop\n",
            "6          soursop         soursop\n",
            "7   African cherry  African cherry\n",
            "8          soursop         soursop\n",
            "9   African cherry  African cherry\n",
            "10  African cherry  African cherry\n",
            "11  African cherry  African cherry\n",
            "12  African cherry  African cherry\n",
            "13  African cherry  African cherry\n",
            "14  African cherry  African cherry\n",
            "15  African cherry  African cherry\n",
            "16  African cherry  African cherry\n",
            "17  African cherry  African cherry\n",
            "18  African cherry  African cherry\n",
            "19         soursop         soursop\n",
            "20  African cherry  African cherry\n",
            "21  African cherry  African cherry\n",
            "22  African cherry  African cherry\n",
            "23         soursop         soursop\n",
            "24  African cherry  African cherry\n",
            "25  African cherry  African cherry\n",
            "26  African cherry  African cherry\n",
            "27         soursop         soursop\n",
            "28  African cherry  African cherry\n",
            "29  African cherry  African cherry\n",
            "30  African cherry  African cherry\n",
            "31  African cherry  African cherry\n",
            "32  African cherry  African cherry\n",
            "33  African cherry  African cherry\n",
            "34  African cherry  African cherry\n",
            "35         soursop         soursop\n",
            "36  African cherry  African cherry\n",
            "37  African cherry  African cherry\n",
            "38  African cherry  African cherry\n",
            "39  African cherry  African cherry\n",
            "40         soursop         soursop\n",
            "41         soursop  African cherry\n",
            "42  African cherry  African cherry\n",
            "43  African cherry  African cherry\n",
            "44         soursop         soursop\n"
          ],
          "name": "stdout"
        }
      ]
    },
    {
      "cell_type": "code",
      "metadata": {
        "colab": {
          "base_uri": "https://localhost:8080/"
        },
        "id": "NXhDk4QWbmFJ",
        "outputId": "bddec751-636e-4605-d0d2-e86a9cdd7000"
      },
      "source": [
        "model.summary()"
      ],
      "execution_count": null,
      "outputs": [
        {
          "output_type": "stream",
          "text": [
            "Model: \"sequential\"\n",
            "_________________________________________________________________\n",
            "Layer (type)                 Output Shape              Param #   \n",
            "=================================================================\n",
            "conv2d (Conv2D)              (None, 200, 200, 16)      448       \n",
            "_________________________________________________________________\n",
            "max_pooling2d (MaxPooling2D) (None, 100, 100, 16)      0         \n",
            "_________________________________________________________________\n",
            "conv2d_1 (Conv2D)            (None, 100, 100, 32)      4640      \n",
            "_________________________________________________________________\n",
            "max_pooling2d_1 (MaxPooling2 (None, 50, 50, 32)        0         \n",
            "_________________________________________________________________\n",
            "conv2d_2 (Conv2D)            (None, 50, 50, 64)        18496     \n",
            "_________________________________________________________________\n",
            "max_pooling2d_2 (MaxPooling2 (None, 25, 25, 64)        0         \n",
            "_________________________________________________________________\n",
            "dropout (Dropout)            (None, 25, 25, 64)        0         \n",
            "_________________________________________________________________\n",
            "flatten (Flatten)            (None, 40000)             0         \n",
            "_________________________________________________________________\n",
            "dense (Dense)                (None, 512)               20480512  \n",
            "_________________________________________________________________\n",
            "dense_1 (Dense)              (None, 2)                 1026      \n",
            "=================================================================\n",
            "Total params: 20,505,122\n",
            "Trainable params: 20,505,122\n",
            "Non-trainable params: 0\n",
            "_________________________________________________________________\n"
          ],
          "name": "stdout"
        }
      ]
    },
    {
      "cell_type": "code",
      "metadata": {
        "id": "LPJGTlCGbwXX"
      },
      "source": [
        "model.save('fruitclassifier.h5')"
      ],
      "execution_count": null,
      "outputs": []
    },
    {
      "cell_type": "code",
      "metadata": {
        "colab": {
          "base_uri": "https://localhost:8080/"
        },
        "id": "EIs_I-BGeuEE",
        "outputId": "107d32f2-3720-4da4-ce28-1e925c7b1eae"
      },
      "source": [
        "!pwd\n",
        "!ls"
      ],
      "execution_count": null,
      "outputs": [
        {
          "output_type": "stream",
          "text": [
            "/content\n",
            "fruitclassifier.h5  gdrive  sample_data\n"
          ],
          "name": "stdout"
        }
      ]
    },
    {
      "cell_type": "code",
      "metadata": {
        "colab": {
          "base_uri": "https://localhost:8080/"
        },
        "id": "cLDg69i-gapQ",
        "outputId": "c50b7463-446b-4385-d2fd-2382d3facf30"
      },
      "source": [
        "My_TFlite_Model=tf.keras.models.load_model('fruitclassifier.h5')\n",
        "converter=tf.lite.TFLiteConverter.from_keras_model(My_TFlite_Model)\n",
        "tflite_model=converter.convert()\n",
        "open('My_TFlite_Model.tflite','wb').write(tflite_model)"
      ],
      "execution_count": null,
      "outputs": [
        {
          "output_type": "stream",
          "text": [
            "INFO:tensorflow:Assets written to: /tmp/tmppanrwlvs/assets\n"
          ],
          "name": "stdout"
        },
        {
          "output_type": "execute_result",
          "data": {
            "text/plain": [
              "82024212"
            ]
          },
          "metadata": {
            "tags": []
          },
          "execution_count": 43
        }
      ]
    }
  ]
}